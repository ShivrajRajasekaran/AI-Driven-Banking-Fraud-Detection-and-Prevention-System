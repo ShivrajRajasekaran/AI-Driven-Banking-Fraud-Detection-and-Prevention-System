{
 "cells": [
  {
   "cell_type": "code",
   "execution_count": 1,
   "id": "f9d00204-7b53-412b-ac23-8a80b8d2de97",
   "metadata": {},
   "outputs": [
    {
     "name": "stdout",
     "output_type": "stream",
     "text": [
      "Defaulting to user installation because normal site-packages is not writeable\n",
      "Requirement already satisfied: pandas in /home/jovyan/.local/lib/python3.10/site-packages (2.1.4)\n",
      "Requirement already satisfied: scikit-learn in /home/jovyan/.local/lib/python3.10/site-packages (1.4.0)\n",
      "Requirement already satisfied: joblib in /home/jovyan/.local/lib/python3.10/site-packages (1.4.2)\n",
      "Requirement already satisfied: numpy<2,>=1.22.4 in /home/jovyan/.local/lib/python3.10/site-packages (from pandas) (1.26.4)\n",
      "Requirement already satisfied: python-dateutil>=2.8.2 in /home/jovyan/.local/lib/python3.10/site-packages (from pandas) (2.9.0.post0)\n",
      "Requirement already satisfied: pytz>=2020.1 in /home/jovyan/.local/lib/python3.10/site-packages (from pandas) (2024.2)\n",
      "Requirement already satisfied: tzdata>=2022.1 in /home/jovyan/.local/lib/python3.10/site-packages (from pandas) (2024.1)\n",
      "Requirement already satisfied: scipy>=1.6.0 in /home/jovyan/.local/lib/python3.10/site-packages (from scikit-learn) (1.12.0)\n",
      "Requirement already satisfied: threadpoolctl>=2.0.0 in /home/jovyan/.local/lib/python3.10/site-packages (from scikit-learn) (3.5.0)\n",
      "Requirement already satisfied: six>=1.5 in /usr/local/lib/python3.10/dist-packages (from python-dateutil>=2.8.2->pandas) (1.16.0)\n"
     ]
    }
   ],
   "source": [
    "!pip install pandas scikit-learn joblib"
   ]
  },
  {
   "cell_type": "code",
   "execution_count": 1,
   "id": "2c606f3a-a328-44c8-9e0d-117eb96fea9b",
   "metadata": {},
   "outputs": [],
   "source": [
    "# Anomaly detection function\n",
    "def detect_anomalies(transactions):\n",
    "    if transactions.empty:\n",
    "        return False\n",
    "\n",
    "    # Ensure 'amount' is numeric and 'timestamp' is datetime\n",
    "    transactions['amount'] = pd.to_numeric(transactions['amount'], errors='coerce')\n",
    "    transactions['timestamp'] = pd.to_datetime(transactions['timestamp'])\n",
    "\n",
    "    # Prepare the data for anomaly detection\n",
    "    transactions['timestamp'] = transactions['timestamp'].astype(int) // 10**9  # Keep 'timestamp' as used in training\n",
    "\n",
    "    # Load the pre-trained model\n",
    "    model = joblib.load('anomaly_model.pkl')\n",
    "\n",
    "    # Predict anomalies\n",
    "    transactions['anomaly'] = model.predict(transactions[['amount', 'timestamp']])\n",
    "\n",
    "    # Check for anomalies\n",
    "    return transactions['anomaly'].value_counts().get(-1, 0) > 0\n"
   ]
  },
  {
   "cell_type": "code",
   "execution_count": 2,
   "id": "03ec5d96-a29a-46c3-a047-973bea968bd0",
   "metadata": {},
   "outputs": [],
   "source": [
    "import pandas as pd\n",
    "import random\n",
    "from datetime import datetime, timedelta\n",
    "\n",
    "def generate_synthetic_data(num_records):\n",
    "    data = []\n",
    "    for _ in range(num_records):\n",
    "        sender = f'user{random.randint(1, 10)}'\n",
    "        recipient = f'user{random.randint(1, 10)}'\n",
    "        amount = random.uniform(100, 10000)  # Random amounts between 100 and 10000\n",
    "        timestamp = datetime.now() - timedelta(minutes=random.randint(1, 1440))  # Random time in last 24 hours\n",
    "        data.append([sender, recipient, amount, timestamp.strftime(\"%Y-%m-%d %H:%M:%S\")])\n",
    "    return pd.DataFrame(data, columns=['sender', 'recipient', 'amount', 'timestamp'])\n",
    "\n",
    "# Generate 50 synthetic transaction records\n",
    "synthetic_data = generate_synthetic_data(50)\n",
    "synthetic_data.to_csv('transactions.csv', mode='a', header=False, index=False)  # Append to the CSV\n"
   ]
  },
  {
   "cell_type": "code",
   "execution_count": 3,
   "id": "5fee87db-7f71-4773-9f48-d54782ef9f7f",
   "metadata": {},
   "outputs": [],
   "source": [
    "import pandas as pd\n",
    "\n",
    "# Load your transaction data\n",
    "transaction_file = 'transactions.csv'\n",
    "new_training_data = pd.read_csv(transaction_file)\n",
    "\n",
    "# Convert timestamp to a usable format (e.g., seconds)\n",
    "new_training_data['timestamp'] = pd.to_datetime(new_training_data['timestamp'])\n",
    "new_training_data['time'] = new_training_data['timestamp'].astype(int) // 10**9  # Convert to seconds\n",
    "\n",
    "# Ensure that 'amount' is numeric\n",
    "new_training_data['amount'] = pd.to_numeric(new_training_data['amount'], errors='coerce')\n"
   ]
  },
  {
   "cell_type": "code",
   "execution_count": 4,
   "id": "abc5ea96-10c7-4cf2-a68e-2531a54e26c1",
   "metadata": {},
   "outputs": [
    {
     "name": "stdout",
     "output_type": "stream",
     "text": [
      "   sender recipient       amount            timestamp\n",
      "0  sowmya     user5  1828.161106  2024-10-19 16:19:10\n",
      "1  sowmya     user4   929.537064  2024-10-19 16:26:10\n",
      "2  sowmya     user3  1254.617754  2024-10-19 16:27:10\n",
      "3  sowmya     user2  2000.109460  2024-10-19 16:33:10\n",
      "4  sowmya     user5  1902.119625  2024-10-19 16:15:10\n",
      "5  sowmya     user3  1466.961642  2024-10-19 16:30:10\n",
      "6  sowmya     user1  1721.083778  2024-10-19 16:29:10\n",
      "7  sowmya     user2  1196.425798  2024-10-19 16:17:10\n",
      "8  sowmya     user1  1981.100120  2024-10-19 16:12:10\n",
      "9  sowmya     user3  2770.555813  2024-10-19 16:36:10\n"
     ]
    }
   ],
   "source": [
    "import pandas as pd\n",
    "from datetime import datetime, timedelta\n",
    "import random\n",
    "\n",
    "# Generate synthetic transactions for the user 'sowmya'\n",
    "def generate_transactions():\n",
    "    data = []\n",
    "    current_balance = 10000  # Sowmya's balance\n",
    "    sender = 'sowmya'\n",
    "    \n",
    "    for i in range(10):\n",
    "        recipient = f'user{random.randint(1, 5)}'\n",
    "        amount = random.uniform(500, 3000)  # Random amounts between 500 and 3000\n",
    "        timestamp = datetime.now() - timedelta(minutes=random.randint(1, 30))\n",
    "        current_balance -= amount\n",
    "        data.append([sender, recipient, amount, timestamp.strftime(\"%Y-%m-%d %H:%M:%S\")])\n",
    "    \n",
    "    return pd.DataFrame(data, columns=['sender', 'recipient', 'amount', 'timestamp'])\n",
    "\n",
    "transactions_df = generate_transactions()\n",
    "transactions_df.to_csv('transactions.csv', index=False)\n",
    "print(transactions_df)\n"
   ]
  },
  {
   "cell_type": "code",
   "execution_count": 5,
   "id": "96745ecd-0d38-4e14-914c-3b66faba8594",
   "metadata": {},
   "outputs": [
    {
     "name": "stdout",
     "output_type": "stream",
     "text": [
      "   sender recipient       amount            timestamp\n",
      "0  sowmya     user5  2465.950086  2024-10-19 16:25:05\n",
      "1  sowmya     user3   827.760248  2024-10-19 16:24:05\n",
      "2  sowmya     user1  1759.332205  2024-10-19 16:20:05\n",
      "3  sowmya     user3  2248.600975  2024-10-19 16:19:05\n",
      "4  sowmya     user1  1245.746257  2024-10-19 16:34:05\n",
      "5  sowmya     user4  2752.461914  2024-10-19 16:14:05\n",
      "6  sowmya     user4  1768.068608  2024-10-19 16:37:05\n",
      "7  sowmya     user1  2341.297248  2024-10-19 16:31:05\n",
      "8  sowmya     user3  1449.017237  2024-10-19 16:22:05\n",
      "9  sowmya     user1  1602.062611  2024-10-19 16:23:05\n"
     ]
    }
   ],
   "source": [
    "import pandas as pd\n",
    "from datetime import datetime, timedelta\n",
    "import random\n",
    "\n",
    "# Generate synthetic transactions for the user 'sowmya'\n",
    "def generate_transactions():\n",
    "    data = []\n",
    "    current_balance = 10000  # Sowmya's balance\n",
    "    sender = 'sowmya'\n",
    "    \n",
    "    for i in range(10):\n",
    "        recipient = f'user{random.randint(1, 5)}'\n",
    "        amount = random.uniform(500, 3000)  # Random amounts between 500 and 3000\n",
    "        timestamp = datetime.now() - timedelta(minutes=random.randint(1, 30))\n",
    "        current_balance -= amount\n",
    "        data.append([sender, recipient, amount, timestamp.strftime(\"%Y-%m-%d %H:%M:%S\")])\n",
    "    \n",
    "    return pd.DataFrame(data, columns=['sender', 'recipient', 'amount', 'timestamp'])\n",
    "\n",
    "transactions_df = generate_transactions()\n",
    "transactions_df.to_csv('transactions.csv', index=False)\n",
    "print(transactions_df)\n"
   ]
  },
  {
   "cell_type": "code",
   "execution_count": 6,
   "id": "44bc4175-1212-42fe-86d2-19900d1965aa",
   "metadata": {},
   "outputs": [
    {
     "name": "stdout",
     "output_type": "stream",
     "text": [
      "Alert: Multiple transactions within short period: {'recipient': {9: 'user1'}, 'amount': {9: 1602.062611426888}}\n",
      "Alert: Transaction(s) to unknown recipient(s): {'recipient': {0: 'user5', 1: 'user3', 3: 'user3', 5: 'user4', 6: 'user4', 8: 'user3'}, 'amount': {0: 2465.95008636651, 1: 827.7602475627292, 3: 2248.6009745759507, 5: 2752.4619139752676, 6: 1768.0686076440331, 8: 1449.0172367618766}}\n"
     ]
    }
   ],
   "source": [
    "def detect_anomalies(transactions, user_balance):\n",
    "    anomalies = []\n",
    "    \n",
    "    # Rule 1: Detect unusually large transactions (50% of balance)\n",
    "    large_transaction_limit = user_balance * 0.5\n",
    "    large_transactions = transactions[transactions['amount'] > large_transaction_limit]\n",
    "    \n",
    "    if not large_transactions.empty:\n",
    "        anomalies.append(f\"Unusually large transaction(s): {large_transactions[['recipient', 'amount']].to_dict()}\")\n",
    "\n",
    "    # Rule 2: Detect multiple transactions within a short period\n",
    "    transactions['timestamp'] = pd.to_datetime(transactions['timestamp'])\n",
    "    transactions['time_diff'] = transactions['timestamp'].diff().dt.seconds / 60  # Time difference in minutes\n",
    "    rapid_transactions = transactions[transactions['time_diff'] < 5]  # More than 1 transaction in under 5 minutes\n",
    "    \n",
    "    if not rapid_transactions.empty:\n",
    "        anomalies.append(f\"Multiple transactions within short period: {rapid_transactions[['recipient', 'amount']].to_dict()}\")\n",
    "\n",
    "    # Rule 3: New recipient detection\n",
    "    known_recipients = {'user1', 'user2'}  # Define a set of known recipients\n",
    "    new_recipients = transactions[~transactions['recipient'].isin(known_recipients)]\n",
    "    \n",
    "    if not new_recipients.empty:\n",
    "        anomalies.append(f\"Transaction(s) to unknown recipient(s): {new_recipients[['recipient', 'amount']].to_dict()}\")\n",
    "    \n",
    "    return anomalies\n",
    "\n",
    "# Detect anomalies in the user's transactions\n",
    "user_balance = 10000  # Initial balance of Sowmya\n",
    "anomalies_detected = detect_anomalies(transactions_df, user_balance)\n",
    "\n",
    "if anomalies_detected:\n",
    "    for anomaly in anomalies_detected:\n",
    "        print(f\"Alert: {anomaly}\")\n"
   ]
  },
  {
   "cell_type": "code",
   "execution_count": 2,
   "id": "bd3ea02f-de57-427e-9c17-6deaf5277bca",
   "metadata": {},
   "outputs": [],
   "source": [
    "from twilio.rest import Client\n",
    "\n",
    "# Your Twilio credentials\n",
    "account_sid = 'AC914bdf37e96d992612a35e39ecc8c491'\n",
    "auth_token = '6413e9cf42276d7b9bd9bad5048361d6'\n",
    "client = Client(account_sid, auth_token)\n",
    "\n",
    "def send_twilio_alert(anomalies):\n",
    "    message_body = f\"Anomaly detected in your account: {', '.join(anomalies)}\"\n",
    "    \n",
    "    # Replace 'your_twilio_number' with your actual Twilio number and 'your_phone_number' with the user's number\n",
    "    message = client.messages.create(\n",
    "        body=message_body,\n",
    "        from_='+13057833745',\n",
    "        to='+91 9363275090'\n",
    "    )\n",
    "    return message.sid\n"
   ]
  },
  {
   "cell_type": "code",
   "execution_count": 3,
   "id": "8aa6bb1c-e8b4-4fac-b4c1-58ebde0614d9",
   "metadata": {},
   "outputs": [],
   "source": [
    "# Function to log transaction\n",
    "def log_transaction(sender, recipient, amount):\n",
    "    transaction_data = {\n",
    "        \"sender\": sender,\n",
    "        \"recipient\": recipient,\n",
    "        \"amount\": amount,\n",
    "        \"timestamp\": datetime.now().strftime(\"%Y-%m-%d %H:%M:%S\")\n",
    "    }\n",
    "    try:\n",
    "        df = pd.DataFrame([transaction_data])\n",
    "        df.to_csv(transaction_file, mode='a', index=False, header=not pd.read_csv(transaction_file).shape[0])\n",
    "    except FileNotFoundError:\n",
    "        df.to_csv(transaction_file, mode='w', index=False, header=True)\n",
    "    except pd.errors.ParserError:\n",
    "        print(\"Error logging the transaction. CSV format issue.\")\n"
   ]
  },
  {
   "cell_type": "code",
   "execution_count": null,
   "id": "c27dfc93-3a4a-4068-98ca-bf3577646fda",
   "metadata": {},
   "outputs": [],
   "source": []
  }
 ],
 "metadata": {
  "kernelspec": {
   "display_name": "Python 3 (ipykernel)",
   "language": "python",
   "name": "python3"
  },
  "language_info": {
   "codemirror_mode": {
    "name": "ipython",
    "version": 3
   },
   "file_extension": ".py",
   "mimetype": "text/x-python",
   "name": "python",
   "nbconvert_exporter": "python",
   "pygments_lexer": "ipython3",
   "version": "3.10.12"
  }
 },
 "nbformat": 4,
 "nbformat_minor": 5
}
